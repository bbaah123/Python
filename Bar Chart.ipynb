{
 "cells": [
  {
   "cell_type": "code",
   "execution_count": 3,
   "metadata": {},
   "outputs": [
    {
     "data": {
      "image/png": "[encoded data removed]",
      "text/plain": [
       "<Figure size 432x288 with 1 Axes>"
      ]
     },
     "metadata": {
      "needs_background": "light"
     },
     "output_type": "display_data"
    }
   ],
   "source": [
    "import matplotlib.pyplot as plt \n",
    "\n",
    "# x-coordinates of left sides of bars \n",
    "left = [1, 2, 3, 4, 5] \n",
    "\n",
    "# heights of bars \n",
    "height = [10, 24, 36, 40, 5] \n",
    "\n",
    "# labels for bars \n",
    "tick_label = ['one', 'two', 'three', 'four', 'five'] \n",
    "\n",
    "# plotting a bar chart \n",
    "plt.bar(left, height, tick_label = tick_label, \n",
    "\t\twidth = 0.8, color = ['red', 'green']) \n",
    "\n",
    "# naming the x-axis \n",
    "plt.xlabel('x - axis') \n",
    "# naming the y-axis \n",
    "plt.ylabel('y - axis') \n",
    "# plot title \n",
    "plt.title('My bar chart!') \n",
    "\n",
    "# function to show the plot \n",
    "plt.show() \n"
   ]
  },
  {
   "cell_type": "code",
   "execution_count": null,
   "metadata": {},
   "outputs": [],
   "source": []
  }
 ],
 "metadata": {
  "kernelspec": {
   "display_name": "Python 3",
   "language": "python",
   "name": "python3"
  },
  "language_info": {
   "codemirror_mode": {
    "name": "ipython",
    "version": 3
   },
   "file_extension": ".py",
   "mimetype": "text/x-python",
   "name": "python",
   "nbconvert_exporter": "python",
   "pygments_lexer": "ipython3",
   "version": "3.7.6"
  }
 },
 "nbformat": 4,
 "nbformat_minor": 4
}
