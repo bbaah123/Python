{
 "cells": [
  {
   "cell_type": "code",
   "execution_count": 1,
   "metadata": {},
   "outputs": [
    {
     "name": "stdout",
     "output_type": "stream",
     "text": [
      "{\"links\":[{\"rel\":\"self\",\"href\":\"https://api.pjm.com/api/v1/rt_hrl_lmps?RowCount=100&Order=Asc&StartRow=1&IsActiveMetadata=True&Fields=total_lmp_rt%2Cpnode_id%2Cpnode_name%2Czone&pnode_id=48832&datetime_beginning_utc=2020-02-28T17%3A28%3A35%20to%202020-03-28T17%3A28%3A35&zone=PECO\"},{\"rel\":\"next\",\"href\":\"https://api.pjm.com/api/v1/rt_hrl_lmps?RowCount=100&Order=Asc&StartRow=101&IsActiveMetadata=True&Fields=total_lmp_rt%2Cpnode_id%2Cpnode_name%2Czone&pnode_id=48832&datetime_beginning_utc=2020-02-28T17%3A28%3A35%20to%202020-03-28T17%3A28%3A35&zone=PECO\"},{\"rel\":\"metadata\",\"href\":\"https://api.pjm.com/api/v1/rt_hrl_lmps/metadata\"}],\"items\":[{\"pnode_id\":48832,\"pnode_name\":\"BRADFORD\",\"zone\":\"PECO\",\"total_lmp_rt\":17.980000},{\"pnode_id\":48832,\"pnode_name\":\"BRADFORD\",\"zone\":\"PECO\",\"total_lmp_rt\":16.180000},{\"pnode_id\":48832,\"pnode_name\":\"BRADFORD\",\"zone\":\"PECO\",\"total_lmp_rt\":16.120000},{\"pnode_id\":48832,\"pnode_name\":\"BRADFORD\",\"zone\":\"PECO\",\"total_lmp_rt\":17.340000},{\"pnode_id\":48832,\"pnode_name\":\"BRADFORD\",\"zone\":\"PECO\",\"total_lmp_rt\":32.290000},{\"pnode_id\":48832,\"pnode_name\":\"BRADFORD\",\"zone\":\"PECO\",\"total_lmp_rt\":22.500000},{\"pnode_id\":48832,\"pnode_name\":\"BRADFORD\",\"zone\":\"PECO\",\"total_lmp_rt\":30.400000},{\"pnode_id\":48832,\"pnode_name\":\"BRADFORD\",\"zone\":\"PECO\",\"total_lmp_rt\":20.700000},{\"pnode_id\":48832,\"pnode_name\":\"BRADFORD\",\"zone\":\"PECO\",\"total_lmp_rt\":18.950000},{\"pnode_id\":48832,\"pnode_name\":\"BRADFORD\",\"zone\":\"PECO\",\"total_lmp_rt\":17.810000},{\"pnode_id\":48832,\"pnode_name\":\"BRADFORD\",\"zone\":\"PECO\",\"total_lmp_rt\":17.400000},{\"pnode_id\":48832,\"pnode_name\":\"BRADFORD\",\"zone\":\"PECO\",\"total_lmp_rt\":17.800000},{\"pnode_id\":48832,\"pnode_name\":\"BRADFORD\",\"zone\":\"PECO\",\"total_lmp_rt\":17.840000},{\"pnode_id\":48832,\"pnode_name\":\"BRADFORD\",\"zone\":\"PECO\",\"total_lmp_rt\":18.190000},{\"pnode_id\":48832,\"pnode_name\":\"BRADFORD\",\"zone\":\"PECO\",\"total_lmp_rt\":18.030000},{\"pnode_id\":48832,\"pnode_name\":\"BRADFORD\",\"zone\":\"PECO\",\"total_lmp_rt\":18.370000},{\"pnode_id\":48832,\"pnode_name\":\"BRADFORD\",\"zone\":\"PECO\",\"total_lmp_rt\":19.420000},{\"pnode_id\":48832,\"pnode_name\":\"BRADFORD\",\"zone\":\"PECO\",\"total_lmp_rt\":18.420000},{\"pnode_id\":48832,\"pnode_name\":\"BRADFORD\",\"zone\":\"PECO\",\"total_lmp_rt\":17.350000},{\"pnode_id\":48832,\"pnode_name\":\"BRADFORD\",\"zone\":\"PECO\",\"total_lmp_rt\":16.650000},{\"pnode_id\":48832,\"pnode_name\":\"BRADFORD\",\"zone\":\"PECO\",\"total_lmp_rt\":14.270000},{\"pnode_id\":48832,\"pnode_name\":\"BRADFORD\",\"zone\":\"PECO\",\"total_lmp_rt\":14.890000},{\"pnode_id\":48832,\"pnode_name\":\"BRADFORD\",\"zone\":\"PECO\",\"total_lmp_rt\":19.120000},{\"pnode_id\":48832,\"pnode_name\":\"BRADFORD\",\"zone\":\"PECO\",\"total_lmp_rt\":17.450000},{\"pnode_id\":48832,\"pnode_name\":\"BRADFORD\",\"zone\":\"PECO\",\"total_lmp_rt\":16.470000},{\"pnode_id\":48832,\"pnode_name\":\"BRADFORD\",\"zone\":\"PECO\",\"total_lmp_rt\":16.790000},{\"pnode_id\":48832,\"pnode_name\":\"BRADFORD\",\"zone\":\"PECO\",\"total_lmp_rt\":17.130000},{\"pnode_id\":48832,\"pnode_name\":\"BRADFORD\",\"zone\":\"PECO\",\"total_lmp_rt\":17.760000},{\"pnode_id\":48832,\"pnode_name\":\"BRADFORD\",\"zone\":\"PECO\",\"total_lmp_rt\":20.930000},{\"pnode_id\":48832,\"pnode_name\":\"BRADFORD\",\"zone\":\"PECO\",\"total_lmp_rt\":27.670000},{\"pnode_id\":48832,\"pnode_name\":\"BRADFORD\",\"zone\":\"PECO\",\"total_lmp_rt\":22.380000},{\"pnode_id\":48832,\"pnode_name\":\"BRADFORD\",\"zone\":\"PECO\",\"total_lmp_rt\":22.360000},{\"pnode_id\":48832,\"pnode_name\":\"BRADFORD\",\"zone\":\"PECO\",\"total_lmp_rt\":20.650000},{\"pnode_id\":48832,\"pnode_name\":\"BRADFORD\",\"zone\":\"PECO\",\"total_lmp_rt\":19.340000},{\"pnode_id\":48832,\"pnode_name\":\"BRADFORD\",\"zone\":\"PECO\",\"total_lmp_rt\":18.220000},{\"pnode_id\":48832,\"pnode_name\":\"BRADFORD\",\"zone\":\"PECO\",\"total_lmp_rt\":18.660000},{\"pnode_id\":48832,\"pnode_name\":\"BRADFORD\",\"zone\":\"PECO\",\"total_lmp_rt\":18.300000},{\"pnode_id\":48832,\"pnode_name\":\"BRADFORD\",\"zone\":\"PECO\",\"total_lmp_rt\":18.020000},{\"pnode_id\":48832,\"pnode_name\":\"BRADFORD\",\"zone\":\"PECO\",\"total_lmp_rt\":18.030000},{\"pnode_id\":48832,\"pnode_name\":\"BRADFORD\",\"zone\":\"PECO\",\"total_lmp_rt\":20.130000},{\"pnode_id\":48832,\"pnode_name\":\"BRADFORD\",\"zone\":\"PECO\",\"total_lmp_rt\":16.910000},{\"pnode_id\":48832,\"pnode_name\":\"BRADFORD\",\"zone\":\"PECO\",\"total_lmp_rt\":16.950000},{\"pnode_id\":48832,\"pnode_name\":\"BRADFORD\",\"zone\":\"PECO\",\"total_lmp_rt\":16.220000},{\"pnode_id\":48832,\"pnode_name\":\"BRADFORD\",\"zone\":\"PECO\",\"total_lmp_rt\":13.870000},{\"pnode_id\":48832,\"pnode_name\":\"BRADFORD\",\"zone\":\"PECO\",\"total_lmp_rt\":14.600000},{\"pnode_id\":48832,\"pnode_name\":\"BRADFORD\",\"zone\":\"PECO\",\"total_lmp_rt\":13.380000},{\"pnode_id\":48832,\"pnode_name\":\"BRADFORD\",\"zone\":\"PECO\",\"total_lmp_rt\":13.570000},{\"pnode_id\":48832,\"pnode_name\":\"BRADFORD\",\"zone\":\"PECO\",\"total_lmp_rt\":13.570000},{\"pnode_id\":48832,\"pnode_name\":\"BRADFORD\",\"zone\":\"PECO\",\"total_lmp_rt\":12.490000},{\"pnode_id\":48832,\"pnode_name\":\"BRADFORD\",\"zone\":\"PECO\",\"total_lmp_rt\":11.770000},{\"pnode_id\":48832,\"pnode_name\":\"BRADFORD\",\"zone\":\"PECO\",\"total_lmp_rt\":11.760000},{\"pnode_id\":48832,\"pnode_name\":\"BRADFORD\",\"zone\":\"PECO\",\"total_lmp_rt\":12.040000},{\"pnode_id\":48832,\"pnode_name\":\"BRADFORD\",\"zone\":\"PECO\",\"total_lmp_rt\":13.640000},{\"pnode_id\":48832,\"pnode_name\":\"BRADFORD\",\"zone\":\"PECO\",\"total_lmp_rt\":17.670000},{\"pnode_id\":48832,\"pnode_name\":\"BRADFORD\",\"zone\":\"PECO\",\"total_lmp_rt\":18.070000},{\"pnode_id\":48832,\"pnode_name\":\"BRADFORD\",\"zone\":\"PECO\",\"total_lmp_rt\":18.020000},{\"pnode_id\":48832,\"pnode_name\":\"BRADFORD\",\"zone\":\"PECO\",\"total_lmp_rt\":16.180000},{\"pnode_id\":48832,\"pnode_name\":\"BRADFORD\",\"zone\":\"PECO\",\"total_lmp_rt\":14.640000},{\"pnode_id\":48832,\"pnode_name\":\"BRADFORD\",\"zone\":\"PECO\",\"total_lmp_rt\":15.070000},{\"pnode_id\":48832,\"pnode_name\":\"BRADFORD\",\"zone\":\"PECO\",\"total_lmp_rt\":16.020000},{\"pnode_id\":48832,\"pnode_name\":\"BRADFORD\",\"zone\":\"PECO\",\"total_lmp_rt\":14.750000},{\"pnode_id\":48832,\"pnode_name\":\"BRADFORD\",\"zone\":\"PECO\",\"total_lmp_rt\":14.160000},{\"pnode_id\":48832,\"pnode_name\":\"BRADFORD\",\"zone\":\"PECO\",\"total_lmp_rt\":15.280000},{\"pnode_id\":48832,\"pnode_name\":\"BRADFORD\",\"zone\":\"PECO\",\"total_lmp_rt\":22.350000},{\"pnode_id\":48832,\"pnode_name\":\"BRADFORD\",\"zone\":\"PECO\",\"total_lmp_rt\":16.660000},{\"pnode_id\":48832,\"pnode_name\":\"BRADFORD\",\"zone\":\"PECO\",\"total_lmp_rt\":37.580000},{\"pnode_id\":48832,\"pnode_name\":\"BRADFORD\",\"zone\":\"PECO\",\"total_lmp_rt\":17.050000},{\"pnode_id\":48832,\"pnode_name\":\"BRADFORD\",\"zone\":\"PECO\",\"total_lmp_rt\":17.280000},{\"pnode_id\":48832,\"pnode_name\":\"BRADFORD\",\"zone\":\"PECO\",\"total_lmp_rt\":13.130000},{\"pnode_id\":48832,\"pnode_name\":\"BRADFORD\",\"zone\":\"PECO\",\"total_lmp_rt\":8.010000},{\"pnode_id\":48832,\"pnode_name\":\"BRADFORD\",\"zone\":\"PECO\",\"total_lmp_rt\":9.660000},{\"pnode_id\":48832,\"pnode_name\":\"BRADFORD\",\"zone\":\"PECO\",\"total_lmp_rt\":11.980000},{\"pnode_id\":48832,\"pnode_name\":\"BRADFORD\",\"zone\":\"PECO\",\"total_lmp_rt\":10.050000},{\"pnode_id\":48832,\"pnode_name\":\"BRADFORD\",\"zone\":\"PECO\",\"total_lmp_rt\":10.630000},{\"pnode_id\":48832,\"pnode_name\":\"BRADFORD\",\"zone\":\"PECO\",\"total_lmp_rt\":8.750000},{\"pnode_id\":48832,\"pnode_name\":\"BRADFORD\",\"zone\":\"PECO\",\"total_lmp_rt\":8.100000},{\"pnode_id\":48832,\"pnode_name\":\"BRADFORD\",\"zone\":\"PECO\",\"total_lmp_rt\":15.620000},{\"pnode_id\":48832,\"pnode_name\":\"BRADFORD\",\"zone\":\"PECO\",\"total_lmp_rt\":27.360000},{\"pnode_id\":48832,\"pnode_name\":\"BRADFORD\",\"zone\":\"PECO\",\"total_lmp_rt\":11.620000},{\"pnode_id\":48832,\"pnode_name\":\"BRADFORD\",\"zone\":\"PECO\",\"total_lmp_rt\":14.190000},{\"pnode_id\":48832,\"pnode_name\":\"BRADFORD\",\"zone\":\"PECO\",\"total_lmp_rt\":9.760000},{\"pnode_id\":48832,\"pnode_name\":\"BRADFORD\",\"zone\":\"PECO\",\"total_lmp_rt\":10.740000},{\"pnode_id\":48832,\"pnode_name\":\"BRADFORD\",\"zone\":\"PECO\",\"total_lmp_rt\":12.190000},{\"pnode_id\":48832,\"pnode_name\":\"BRADFORD\",\"zone\":\"PECO\",\"total_lmp_rt\":14.040000},{\"pnode_id\":48832,\"pnode_name\":\"BRADFORD\",\"zone\":\"PECO\",\"total_lmp_rt\":13.620000},{\"pnode_id\":48832,\"pnode_name\":\"BRADFORD\",\"zone\":\"PECO\",\"total_lmp_rt\":13.380000},{\"pnode_id\":48832,\"pnode_name\":\"BRADFORD\",\"zone\":\"PECO\",\"total_lmp_rt\":13.470000},{\"pnode_id\":48832,\"pnode_name\":\"BRADFORD\",\"zone\":\"PECO\",\"total_lmp_rt\":12.960000},{\"pnode_id\":48832,\"pnode_name\":\"BRADFORD\",\"zone\":\"PECO\",\"total_lmp_rt\":10.970000},{\"pnode_id\":48832,\"pnode_name\":\"BRADFORD\",\"zone\":\"PECO\",\"total_lmp_rt\":18.480000},{\"pnode_id\":48832,\"pnode_name\":\"BRADFORD\",\"zone\":\"PECO\",\"total_lmp_rt\":20.550000},{\"pnode_id\":48832,\"pnode_name\":\"BRADFORD\",\"zone\":\"PECO\",\"total_lmp_rt\":18.820000},{\"pnode_id\":48832,\"pnode_name\":\"BRADFORD\",\"zone\":\"PECO\",\"total_lmp_rt\":19.550000},{\"pnode_id\":48832,\"pnode_name\":\"BRADFORD\",\"zone\":\"PECO\",\"total_lmp_rt\":21.270000},{\"pnode_id\":48832,\"pnode_name\":\"BRADFORD\",\"zone\":\"PECO\",\"total_lmp_rt\":17.200000},{\"pnode_id\":48832,\"pnode_name\":\"BRADFORD\",\"zone\":\"PECO\",\"total_lmp_rt\":17.620000},{\"pnode_id\":48832,\"pnode_name\":\"BRADFORD\",\"zone\":\"PECO\",\"total_lmp_rt\":18.200000},{\"pnode_id\":48832,\"pnode_name\":\"BRADFORD\",\"zone\":\"PECO\",\"total_lmp_rt\":15.700000},{\"pnode_id\":48832,\"pnode_name\":\"BRADFORD\",\"zone\":\"PECO\",\"total_lmp_rt\":15.080000},{\"pnode_id\":48832,\"pnode_name\":\"BRADFORD\",\"zone\":\"PECO\",\"total_lmp_rt\":16.050000}],\"searchSpecification\":{\"rowCount\":100,\"order\":\"Asc\",\"startRow\":1,\"isActiveMetadata\":true,\"fields\":[\"total_lmp_rt\",\"pnode_id\",\"pnode_name\",\"zone\"],\"filters\":[{\"pnode_id\":\"48832\"},{\"datetime_beginning_utc\":\"2020-02-28T17:28:35 to 2020-03-28T17:28:35\"},{\"zone\":\"PECO\"}]},\"totalRows\":696}\n",
      "Go to output.txt\n"
     ]
    }
   ],
   "source": [
    "\n",
    "########### Python 3.2 #############\n",
    "import http.client, urllib.request, urllib.parse, urllib.error, base64\n",
    "\n",
    "headers = {\n",
    "    # Request headers\n",
    "    'Ocp-Apim-Subscription-Key': '1552bb51a7474055adcaadfba005efc1',\n",
    "}\n",
    "\n",
    "params = urllib.parse.urlencode({\n",
    "    # Request parameters\n",
    "    #'download': True,\n",
    "    'rowCount': 100,\n",
    "    'order': 'asc', \n",
    "    'startRow': 1,\n",
    "    'fields': 'total_lmp_rt, pnode_id, pnode_name, zone',\n",
    "    'pnode_id': 48832,\n",
    "    'datetime_beginning_utc': '2020-02-28T17:28:35 to 2020-03-28T17:28:35',\n",
    "    'zone': 'PECO',\n",
    "    #'datetime_beginning_ept': '2020-02-28T17:28:35',\n",
    "})\n",
    "\n",
    "try:\n",
    "    conn = http.client.HTTPSConnection('api.pjm.com')\n",
    "    conn.request(\"GET\", \"/api/v1/rt_hrl_lmps?%s\" % params, \"{body}\", headers)\n",
    "    response = conn.getresponse()\n",
    "    data = response.read()\n",
    "    print(data.decode(\"utf-8\"))\n",
    "    conn.close()\n",
    "    textData =data.decode(\"utf-8\") \n",
    "    file = open('output.txt', 'w')\n",
    "    file.write(textData)\n",
    "    file.close()\n",
    "    print(\"Go to output.txt\")\n",
    "except Exception as e:\n",
    "    print(\"[Errno {0}] {1}\".format(e.errno, e.strerror))\n",
    "\n",
    "####################################"
   ]
  },
  {
   "cell_type": "code",
   "execution_count": 3,
   "metadata": {},
   "outputs": [
    {
     "data": {
      "text/plain": [
       "str"
      ]
     },
     "execution_count": 3,
     "metadata": {},
     "output_type": "execute_result"
    }
   ],
   "source": [
    "type(textData)"
   ]
  },
  {
   "cell_type": "code",
   "execution_count": 6,
   "metadata": {},
   "outputs": [
    {
     "data": {
      "text/plain": [
       "'{'"
      ]
     },
     "execution_count": 6,
     "metadata": {},
     "output_type": "execute_result"
    }
   ],
   "source": [
    "textData[0]"
   ]
  },
  {
   "cell_type": "code",
   "execution_count": 7,
   "metadata": {},
   "outputs": [],
   "source": [
    "import json\n",
    "finalJson = json.loads(textData)"
   ]
  },
  {
   "cell_type": "code",
   "execution_count": 8,
   "metadata": {},
   "outputs": [
    {
     "data": {
      "text/plain": [
       "dict"
      ]
     },
     "execution_count": 8,
     "metadata": {},
     "output_type": "execute_result"
    }
   ],
   "source": [
    "type(finalJson)"
   ]
  },
  {
   "cell_type": "code",
   "execution_count": 21,
   "metadata": {},
   "outputs": [],
   "source": [
    "import pandas as pd"
   ]
  },
  {
   "cell_type": "code",
   "execution_count": 23,
   "metadata": {},
   "outputs": [
    {
     "data": {
      "text/plain": [
       "[{'pnode_id': 48832,\n",
       "  'pnode_name': 'BRADFORD',\n",
       "  'zone': 'PECO',\n",
       "  'total_lmp_rt': 17.98},\n",
       " {'pnode_id': 48832,\n",
       "  'pnode_name': 'BRADFORD',\n",
       "  'zone': 'PECO',\n",
       "  'total_lmp_rt': 16.18},\n",
       " {'pnode_id': 48832,\n",
       "  'pnode_name': 'BRADFORD',\n",
       "  'zone': 'PECO',\n",
       "  'total_lmp_rt': 16.12},\n",
       " {'pnode_id': 48832,\n",
       "  'pnode_name': 'BRADFORD',\n",
       "  'zone': 'PECO',\n",
       "  'total_lmp_rt': 17.34},\n",
       " {'pnode_id': 48832,\n",
       "  'pnode_name': 'BRADFORD',\n",
       "  'zone': 'PECO',\n",
       "  'total_lmp_rt': 32.29},\n",
       " {'pnode_id': 48832,\n",
       "  'pnode_name': 'BRADFORD',\n",
       "  'zone': 'PECO',\n",
       "  'total_lmp_rt': 22.5},\n",
       " {'pnode_id': 48832,\n",
       "  'pnode_name': 'BRADFORD',\n",
       "  'zone': 'PECO',\n",
       "  'total_lmp_rt': 30.4},\n",
       " {'pnode_id': 48832,\n",
       "  'pnode_name': 'BRADFORD',\n",
       "  'zone': 'PECO',\n",
       "  'total_lmp_rt': 20.7},\n",
       " {'pnode_id': 48832,\n",
       "  'pnode_name': 'BRADFORD',\n",
       "  'zone': 'PECO',\n",
       "  'total_lmp_rt': 18.95},\n",
       " {'pnode_id': 48832,\n",
       "  'pnode_name': 'BRADFORD',\n",
       "  'zone': 'PECO',\n",
       "  'total_lmp_rt': 17.81},\n",
       " {'pnode_id': 48832,\n",
       "  'pnode_name': 'BRADFORD',\n",
       "  'zone': 'PECO',\n",
       "  'total_lmp_rt': 17.4},\n",
       " {'pnode_id': 48832,\n",
       "  'pnode_name': 'BRADFORD',\n",
       "  'zone': 'PECO',\n",
       "  'total_lmp_rt': 17.8},\n",
       " {'pnode_id': 48832,\n",
       "  'pnode_name': 'BRADFORD',\n",
       "  'zone': 'PECO',\n",
       "  'total_lmp_rt': 17.84},\n",
       " {'pnode_id': 48832,\n",
       "  'pnode_name': 'BRADFORD',\n",
       "  'zone': 'PECO',\n",
       "  'total_lmp_rt': 18.19},\n",
       " {'pnode_id': 48832,\n",
       "  'pnode_name': 'BRADFORD',\n",
       "  'zone': 'PECO',\n",
       "  'total_lmp_rt': 18.03},\n",
       " {'pnode_id': 48832,\n",
       "  'pnode_name': 'BRADFORD',\n",
       "  'zone': 'PECO',\n",
       "  'total_lmp_rt': 18.37},\n",
       " {'pnode_id': 48832,\n",
       "  'pnode_name': 'BRADFORD',\n",
       "  'zone': 'PECO',\n",
       "  'total_lmp_rt': 19.42},\n",
       " {'pnode_id': 48832,\n",
       "  'pnode_name': 'BRADFORD',\n",
       "  'zone': 'PECO',\n",
       "  'total_lmp_rt': 18.42},\n",
       " {'pnode_id': 48832,\n",
       "  'pnode_name': 'BRADFORD',\n",
       "  'zone': 'PECO',\n",
       "  'total_lmp_rt': 17.35},\n",
       " {'pnode_id': 48832,\n",
       "  'pnode_name': 'BRADFORD',\n",
       "  'zone': 'PECO',\n",
       "  'total_lmp_rt': 16.65},\n",
       " {'pnode_id': 48832,\n",
       "  'pnode_name': 'BRADFORD',\n",
       "  'zone': 'PECO',\n",
       "  'total_lmp_rt': 14.27},\n",
       " {'pnode_id': 48832,\n",
       "  'pnode_name': 'BRADFORD',\n",
       "  'zone': 'PECO',\n",
       "  'total_lmp_rt': 14.89},\n",
       " {'pnode_id': 48832,\n",
       "  'pnode_name': 'BRADFORD',\n",
       "  'zone': 'PECO',\n",
       "  'total_lmp_rt': 19.12},\n",
       " {'pnode_id': 48832,\n",
       "  'pnode_name': 'BRADFORD',\n",
       "  'zone': 'PECO',\n",
       "  'total_lmp_rt': 17.45},\n",
       " {'pnode_id': 48832,\n",
       "  'pnode_name': 'BRADFORD',\n",
       "  'zone': 'PECO',\n",
       "  'total_lmp_rt': 16.47},\n",
       " {'pnode_id': 48832,\n",
       "  'pnode_name': 'BRADFORD',\n",
       "  'zone': 'PECO',\n",
       "  'total_lmp_rt': 16.79},\n",
       " {'pnode_id': 48832,\n",
       "  'pnode_name': 'BRADFORD',\n",
       "  'zone': 'PECO',\n",
       "  'total_lmp_rt': 17.13},\n",
       " {'pnode_id': 48832,\n",
       "  'pnode_name': 'BRADFORD',\n",
       "  'zone': 'PECO',\n",
       "  'total_lmp_rt': 17.76},\n",
       " {'pnode_id': 48832,\n",
       "  'pnode_name': 'BRADFORD',\n",
       "  'zone': 'PECO',\n",
       "  'total_lmp_rt': 20.93},\n",
       " {'pnode_id': 48832,\n",
       "  'pnode_name': 'BRADFORD',\n",
       "  'zone': 'PECO',\n",
       "  'total_lmp_rt': 27.67},\n",
       " {'pnode_id': 48832,\n",
       "  'pnode_name': 'BRADFORD',\n",
       "  'zone': 'PECO',\n",
       "  'total_lmp_rt': 22.38},\n",
       " {'pnode_id': 48832,\n",
       "  'pnode_name': 'BRADFORD',\n",
       "  'zone': 'PECO',\n",
       "  'total_lmp_rt': 22.36},\n",
       " {'pnode_id': 48832,\n",
       "  'pnode_name': 'BRADFORD',\n",
       "  'zone': 'PECO',\n",
       "  'total_lmp_rt': 20.65},\n",
       " {'pnode_id': 48832,\n",
       "  'pnode_name': 'BRADFORD',\n",
       "  'zone': 'PECO',\n",
       "  'total_lmp_rt': 19.34},\n",
       " {'pnode_id': 48832,\n",
       "  'pnode_name': 'BRADFORD',\n",
       "  'zone': 'PECO',\n",
       "  'total_lmp_rt': 18.22},\n",
       " {'pnode_id': 48832,\n",
       "  'pnode_name': 'BRADFORD',\n",
       "  'zone': 'PECO',\n",
       "  'total_lmp_rt': 18.66},\n",
       " {'pnode_id': 48832,\n",
       "  'pnode_name': 'BRADFORD',\n",
       "  'zone': 'PECO',\n",
       "  'total_lmp_rt': 18.3},\n",
       " {'pnode_id': 48832,\n",
       "  'pnode_name': 'BRADFORD',\n",
       "  'zone': 'PECO',\n",
       "  'total_lmp_rt': 18.02},\n",
       " {'pnode_id': 48832,\n",
       "  'pnode_name': 'BRADFORD',\n",
       "  'zone': 'PECO',\n",
       "  'total_lmp_rt': 18.03},\n",
       " {'pnode_id': 48832,\n",
       "  'pnode_name': 'BRADFORD',\n",
       "  'zone': 'PECO',\n",
       "  'total_lmp_rt': 20.13},\n",
       " {'pnode_id': 48832,\n",
       "  'pnode_name': 'BRADFORD',\n",
       "  'zone': 'PECO',\n",
       "  'total_lmp_rt': 16.91},\n",
       " {'pnode_id': 48832,\n",
       "  'pnode_name': 'BRADFORD',\n",
       "  'zone': 'PECO',\n",
       "  'total_lmp_rt': 16.95},\n",
       " {'pnode_id': 48832,\n",
       "  'pnode_name': 'BRADFORD',\n",
       "  'zone': 'PECO',\n",
       "  'total_lmp_rt': 16.22},\n",
       " {'pnode_id': 48832,\n",
       "  'pnode_name': 'BRADFORD',\n",
       "  'zone': 'PECO',\n",
       "  'total_lmp_rt': 13.87},\n",
       " {'pnode_id': 48832,\n",
       "  'pnode_name': 'BRADFORD',\n",
       "  'zone': 'PECO',\n",
       "  'total_lmp_rt': 14.6},\n",
       " {'pnode_id': 48832,\n",
       "  'pnode_name': 'BRADFORD',\n",
       "  'zone': 'PECO',\n",
       "  'total_lmp_rt': 13.38},\n",
       " {'pnode_id': 48832,\n",
       "  'pnode_name': 'BRADFORD',\n",
       "  'zone': 'PECO',\n",
       "  'total_lmp_rt': 13.57},\n",
       " {'pnode_id': 48832,\n",
       "  'pnode_name': 'BRADFORD',\n",
       "  'zone': 'PECO',\n",
       "  'total_lmp_rt': 13.57},\n",
       " {'pnode_id': 48832,\n",
       "  'pnode_name': 'BRADFORD',\n",
       "  'zone': 'PECO',\n",
       "  'total_lmp_rt': 12.49},\n",
       " {'pnode_id': 48832,\n",
       "  'pnode_name': 'BRADFORD',\n",
       "  'zone': 'PECO',\n",
       "  'total_lmp_rt': 11.77},\n",
       " {'pnode_id': 48832,\n",
       "  'pnode_name': 'BRADFORD',\n",
       "  'zone': 'PECO',\n",
       "  'total_lmp_rt': 11.76},\n",
       " {'pnode_id': 48832,\n",
       "  'pnode_name': 'BRADFORD',\n",
       "  'zone': 'PECO',\n",
       "  'total_lmp_rt': 12.04},\n",
       " {'pnode_id': 48832,\n",
       "  'pnode_name': 'BRADFORD',\n",
       "  'zone': 'PECO',\n",
       "  'total_lmp_rt': 13.64},\n",
       " {'pnode_id': 48832,\n",
       "  'pnode_name': 'BRADFORD',\n",
       "  'zone': 'PECO',\n",
       "  'total_lmp_rt': 17.67},\n",
       " {'pnode_id': 48832,\n",
       "  'pnode_name': 'BRADFORD',\n",
       "  'zone': 'PECO',\n",
       "  'total_lmp_rt': 18.07},\n",
       " {'pnode_id': 48832,\n",
       "  'pnode_name': 'BRADFORD',\n",
       "  'zone': 'PECO',\n",
       "  'total_lmp_rt': 18.02},\n",
       " {'pnode_id': 48832,\n",
       "  'pnode_name': 'BRADFORD',\n",
       "  'zone': 'PECO',\n",
       "  'total_lmp_rt': 16.18},\n",
       " {'pnode_id': 48832,\n",
       "  'pnode_name': 'BRADFORD',\n",
       "  'zone': 'PECO',\n",
       "  'total_lmp_rt': 14.64},\n",
       " {'pnode_id': 48832,\n",
       "  'pnode_name': 'BRADFORD',\n",
       "  'zone': 'PECO',\n",
       "  'total_lmp_rt': 15.07},\n",
       " {'pnode_id': 48832,\n",
       "  'pnode_name': 'BRADFORD',\n",
       "  'zone': 'PECO',\n",
       "  'total_lmp_rt': 16.02},\n",
       " {'pnode_id': 48832,\n",
       "  'pnode_name': 'BRADFORD',\n",
       "  'zone': 'PECO',\n",
       "  'total_lmp_rt': 14.75},\n",
       " {'pnode_id': 48832,\n",
       "  'pnode_name': 'BRADFORD',\n",
       "  'zone': 'PECO',\n",
       "  'total_lmp_rt': 14.16},\n",
       " {'pnode_id': 48832,\n",
       "  'pnode_name': 'BRADFORD',\n",
       "  'zone': 'PECO',\n",
       "  'total_lmp_rt': 15.28},\n",
       " {'pnode_id': 48832,\n",
       "  'pnode_name': 'BRADFORD',\n",
       "  'zone': 'PECO',\n",
       "  'total_lmp_rt': 22.35},\n",
       " {'pnode_id': 48832,\n",
       "  'pnode_name': 'BRADFORD',\n",
       "  'zone': 'PECO',\n",
       "  'total_lmp_rt': 16.66},\n",
       " {'pnode_id': 48832,\n",
       "  'pnode_name': 'BRADFORD',\n",
       "  'zone': 'PECO',\n",
       "  'total_lmp_rt': 37.58},\n",
       " {'pnode_id': 48832,\n",
       "  'pnode_name': 'BRADFORD',\n",
       "  'zone': 'PECO',\n",
       "  'total_lmp_rt': 17.05},\n",
       " {'pnode_id': 48832,\n",
       "  'pnode_name': 'BRADFORD',\n",
       "  'zone': 'PECO',\n",
       "  'total_lmp_rt': 17.28},\n",
       " {'pnode_id': 48832,\n",
       "  'pnode_name': 'BRADFORD',\n",
       "  'zone': 'PECO',\n",
       "  'total_lmp_rt': 13.13},\n",
       " {'pnode_id': 48832,\n",
       "  'pnode_name': 'BRADFORD',\n",
       "  'zone': 'PECO',\n",
       "  'total_lmp_rt': 8.01},\n",
       " {'pnode_id': 48832,\n",
       "  'pnode_name': 'BRADFORD',\n",
       "  'zone': 'PECO',\n",
       "  'total_lmp_rt': 9.66},\n",
       " {'pnode_id': 48832,\n",
       "  'pnode_name': 'BRADFORD',\n",
       "  'zone': 'PECO',\n",
       "  'total_lmp_rt': 11.98},\n",
       " {'pnode_id': 48832,\n",
       "  'pnode_name': 'BRADFORD',\n",
       "  'zone': 'PECO',\n",
       "  'total_lmp_rt': 10.05},\n",
       " {'pnode_id': 48832,\n",
       "  'pnode_name': 'BRADFORD',\n",
       "  'zone': 'PECO',\n",
       "  'total_lmp_rt': 10.63},\n",
       " {'pnode_id': 48832,\n",
       "  'pnode_name': 'BRADFORD',\n",
       "  'zone': 'PECO',\n",
       "  'total_lmp_rt': 8.75},\n",
       " {'pnode_id': 48832,\n",
       "  'pnode_name': 'BRADFORD',\n",
       "  'zone': 'PECO',\n",
       "  'total_lmp_rt': 8.1},\n",
       " {'pnode_id': 48832,\n",
       "  'pnode_name': 'BRADFORD',\n",
       "  'zone': 'PECO',\n",
       "  'total_lmp_rt': 15.62},\n",
       " {'pnode_id': 48832,\n",
       "  'pnode_name': 'BRADFORD',\n",
       "  'zone': 'PECO',\n",
       "  'total_lmp_rt': 27.36},\n",
       " {'pnode_id': 48832,\n",
       "  'pnode_name': 'BRADFORD',\n",
       "  'zone': 'PECO',\n",
       "  'total_lmp_rt': 11.62},\n",
       " {'pnode_id': 48832,\n",
       "  'pnode_name': 'BRADFORD',\n",
       "  'zone': 'PECO',\n",
       "  'total_lmp_rt': 14.19},\n",
       " {'pnode_id': 48832,\n",
       "  'pnode_name': 'BRADFORD',\n",
       "  'zone': 'PECO',\n",
       "  'total_lmp_rt': 9.76},\n",
       " {'pnode_id': 48832,\n",
       "  'pnode_name': 'BRADFORD',\n",
       "  'zone': 'PECO',\n",
       "  'total_lmp_rt': 10.74},\n",
       " {'pnode_id': 48832,\n",
       "  'pnode_name': 'BRADFORD',\n",
       "  'zone': 'PECO',\n",
       "  'total_lmp_rt': 12.19},\n",
       " {'pnode_id': 48832,\n",
       "  'pnode_name': 'BRADFORD',\n",
       "  'zone': 'PECO',\n",
       "  'total_lmp_rt': 14.04},\n",
       " {'pnode_id': 48832,\n",
       "  'pnode_name': 'BRADFORD',\n",
       "  'zone': 'PECO',\n",
       "  'total_lmp_rt': 13.62},\n",
       " {'pnode_id': 48832,\n",
       "  'pnode_name': 'BRADFORD',\n",
       "  'zone': 'PECO',\n",
       "  'total_lmp_rt': 13.38},\n",
       " {'pnode_id': 48832,\n",
       "  'pnode_name': 'BRADFORD',\n",
       "  'zone': 'PECO',\n",
       "  'total_lmp_rt': 13.47},\n",
       " {'pnode_id': 48832,\n",
       "  'pnode_name': 'BRADFORD',\n",
       "  'zone': 'PECO',\n",
       "  'total_lmp_rt': 12.96},\n",
       " {'pnode_id': 48832,\n",
       "  'pnode_name': 'BRADFORD',\n",
       "  'zone': 'PECO',\n",
       "  'total_lmp_rt': 10.97},\n",
       " {'pnode_id': 48832,\n",
       "  'pnode_name': 'BRADFORD',\n",
       "  'zone': 'PECO',\n",
       "  'total_lmp_rt': 18.48},\n",
       " {'pnode_id': 48832,\n",
       "  'pnode_name': 'BRADFORD',\n",
       "  'zone': 'PECO',\n",
       "  'total_lmp_rt': 20.55},\n",
       " {'pnode_id': 48832,\n",
       "  'pnode_name': 'BRADFORD',\n",
       "  'zone': 'PECO',\n",
       "  'total_lmp_rt': 18.82},\n",
       " {'pnode_id': 48832,\n",
       "  'pnode_name': 'BRADFORD',\n",
       "  'zone': 'PECO',\n",
       "  'total_lmp_rt': 19.55},\n",
       " {'pnode_id': 48832,\n",
       "  'pnode_name': 'BRADFORD',\n",
       "  'zone': 'PECO',\n",
       "  'total_lmp_rt': 21.27},\n",
       " {'pnode_id': 48832,\n",
       "  'pnode_name': 'BRADFORD',\n",
       "  'zone': 'PECO',\n",
       "  'total_lmp_rt': 17.2},\n",
       " {'pnode_id': 48832,\n",
       "  'pnode_name': 'BRADFORD',\n",
       "  'zone': 'PECO',\n",
       "  'total_lmp_rt': 17.62},\n",
       " {'pnode_id': 48832,\n",
       "  'pnode_name': 'BRADFORD',\n",
       "  'zone': 'PECO',\n",
       "  'total_lmp_rt': 18.2},\n",
       " {'pnode_id': 48832,\n",
       "  'pnode_name': 'BRADFORD',\n",
       "  'zone': 'PECO',\n",
       "  'total_lmp_rt': 15.7},\n",
       " {'pnode_id': 48832,\n",
       "  'pnode_name': 'BRADFORD',\n",
       "  'zone': 'PECO',\n",
       "  'total_lmp_rt': 15.08},\n",
       " {'pnode_id': 48832,\n",
       "  'pnode_name': 'BRADFORD',\n",
       "  'zone': 'PECO',\n",
       "  'total_lmp_rt': 16.05}]"
      ]
     },
     "execution_count": 23,
     "metadata": {},
     "output_type": "execute_result"
    }
   ],
   "source": [
    "finalJson[\"items\"]"
   ]
  },
  {
   "cell_type": "code",
   "execution_count": 24,
   "metadata": {},
   "outputs": [],
   "source": [
    "rows = finalJson[\"items\"]"
   ]
  },
  {
   "cell_type": "code",
   "execution_count": 25,
   "metadata": {},
   "outputs": [],
   "source": [
    "firstRow = rows[0]"
   ]
  },
  {
   "cell_type": "code",
   "execution_count": 26,
   "metadata": {},
   "outputs": [
    {
     "data": {
      "text/plain": [
       "{'pnode_id': 48832,\n",
       " 'pnode_name': 'BRADFORD',\n",
       " 'zone': 'PECO',\n",
       " 'total_lmp_rt': 17.98}"
      ]
     },
     "execution_count": 26,
     "metadata": {},
     "output_type": "execute_result"
    }
   ],
   "source": [
    "firstRow"
   ]
  },
  {
   "cell_type": "code",
   "execution_count": 27,
   "metadata": {},
   "outputs": [],
   "source": [
    "list1 = [firstRow['pnode_id'], firstRow['pnode_name'], firstRow['zone'], firstRow['total_lmp_rt']]"
   ]
  },
  {
   "cell_type": "code",
   "execution_count": 34,
   "metadata": {},
   "outputs": [],
   "source": [
    "import openpyxl"
   ]
  },
  {
   "cell_type": "code",
   "execution_count": 35,
   "metadata": {},
   "outputs": [],
   "source": [
    "Hrl_lmp_data=pd.DataFrame(data=firstRow, index=['pnode_id','pnode_name','zone','total_lmp_rt'])"
   ]
  },
  {
   "cell_type": "code",
   "execution_count": 38,
   "metadata": {},
   "outputs": [],
   "source": [
    "scientists=pd.DataFrame(\n",
    "data={'Occupation':['Chemist','Statistician'],\n",
    "'Born':['1920-07-25', '1876-06-13'],\n",
    "'Died':['1958-04-16', '1937-10-16'],\n",
    "'Age':[37,61]},\n",
    "index=['Rosaline Franklin','William Gosset'],\n",
    "columns=['Occupation', 'Born','Died','Age'])"
   ]
  },
  {
   "cell_type": "code",
   "execution_count": 40,
   "metadata": {},
   "outputs": [],
   "source": [
    "with pd.ExcelWriter(\"C:\\\\Users\\\\bbaah\\\\OneDrive\\\\Desktop\\\\Current Students\\\\Boris\\\\Book1.xlsx\", engine='openpyxl', mode=\"a\") as writer:\n",
    "    scientists.to_excel(writer, sheet_name='Sheet1', startrow=0, startcol=0)"
   ]
  },
  {
   "cell_type": "code",
   "execution_count": 41,
   "metadata": {},
   "outputs": [],
   "source": [
    "with pd.ExcelWriter(\"C:\\\\Users\\\\bbaah\\\\OneDrive\\\\Desktop\\\\Current Students\\\\Boris\\\\Book1.xlsx\", engine='openpyxl', mode=\"a\") as writer:\n",
    "    Hrl_lmp_data.to_excel(writer, sheet_name='Sheet2', startrow=0, startcol=0)"
   ]
  },
  {
   "cell_type": "code",
   "execution_count": 15,
   "metadata": {},
   "outputs": [
    {
     "data": {
      "text/plain": [
       "[48832, 'BRADFORD', 'PECO', 17.98]"
      ]
     },
     "execution_count": 15,
     "metadata": {},
     "output_type": "execute_result"
    }
   ],
   "source": [
    "list1"
   ]
  },
  {
   "cell_type": "code",
   "execution_count": 16,
   "metadata": {},
   "outputs": [],
   "source": [
    "import csv"
   ]
  },
  {
   "cell_type": "code",
   "execution_count": 17,
   "metadata": {},
   "outputs": [
    {
     "data": {
      "text/plain": [
       "'C:\\\\Users\\\\bbaah'"
      ]
     },
     "execution_count": 17,
     "metadata": {},
     "output_type": "execute_result"
    }
   ],
   "source": [
    "import os\n",
    "os.getcwd()"
   ]
  },
  {
   "cell_type": "code",
   "execution_count": 19,
   "metadata": {},
   "outputs": [],
   "source": [
    "with open(\"pjmData.csv\", \"a\", newline=\"\") as f:\n",
    "    datahandler=csv.writer(f, delimiter=\",\")\n",
    "    i = 0\n",
    "    while i < len(rows):\n",
    "        currentRow = rows[i]\n",
    "        currentList = [currentRow['pnode_id'], currentRow['pnode_name'], currentRow['zone'], currentRow['total_lmp_rt']]\n",
    "        datahandler.writerow(currentList)\n",
    "        i = i + 1"
   ]
  },
  {
   "cell_type": "code",
   "execution_count": null,
   "metadata": {},
   "outputs": [],
   "source": []
  }
 ],
 "metadata": {
  "kernelspec": {
   "display_name": "Python 3",
   "language": "python",
   "name": "python3"
  },
  "language_info": {
   "codemirror_mode": {
    "name": "ipython",
    "version": 3
   },
   "file_extension": ".py",
   "mimetype": "text/x-python",
   "name": "python",
   "nbconvert_exporter": "python",
   "pygments_lexer": "ipython3",
   "version": "3.7.6"
  }
 },
 "nbformat": 4,
 "nbformat_minor": 4
}
